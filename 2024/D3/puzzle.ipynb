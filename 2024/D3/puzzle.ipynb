{
 "cells": [
  {
   "cell_type": "markdown",
   "metadata": {},
   "source": [
    "##### Comments - Part 2\n",
    "Instead of counting enabled muls with too many edge cases, its better to just remove the disabled ones"
   ]
  },
  {
   "cell_type": "code",
   "execution_count": 16,
   "metadata": {},
   "outputs": [],
   "source": [
    "import re \n",
    "from math import prod\n",
    "\n",
    "with open(\"input.txt\") as inFile:\n",
    "  inputStr = inFile.read().replace(\"\\n\", \"\")\n",
    "  inputStr = re.sub(r\"(?=don't\\(\\))(.*?)do\\(\\)\", \"\", inputStr) # Comment for part 1\n",
    "  # inputStr = \"xmul(2,4)%&mul[3,7]!@^don't()do_not_mul(5,5)+mul(32,64]then(mul(11,8)don't()Hello world!do()hawdawdawddon't()helldo()mul(8,5)\""
   ]
  },
  {
   "cell_type": "code",
   "execution_count": 17,
   "metadata": {},
   "outputs": [
    {
     "data": {
      "text/plain": [
       "89823704"
      ]
     },
     "execution_count": 17,
     "metadata": {},
     "output_type": "execute_result"
    }
   ],
   "source": [
    "mulFormat = r\"mul\\((\\d*),(\\d*)\\)\" \n",
    "muls = re.findall(mulFormat, inputStr) \n",
    "muls = [tuple(int(num) for num in mul) for mul in muls] \n",
    "result = sum([prod(mul) for mul in muls]) \n",
    "result\n"
   ]
  },
  {
   "cell_type": "code",
   "execution_count": null,
   "metadata": {},
   "outputs": [],
   "source": []
  }
 ],
 "metadata": {
  "kernelspec": {
   "display_name": "Python 3",
   "language": "python",
   "name": "python3"
  },
  "language_info": {
   "codemirror_mode": {
    "name": "ipython",
    "version": 3
   },
   "file_extension": ".py",
   "mimetype": "text/x-python",
   "name": "python",
   "nbconvert_exporter": "python",
   "pygments_lexer": "ipython3",
   "version": "3.12.0"
  }
 },
 "nbformat": 4,
 "nbformat_minor": 2
}
