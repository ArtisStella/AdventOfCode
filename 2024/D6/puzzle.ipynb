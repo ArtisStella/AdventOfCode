{
 "cells": [
  {
   "cell_type": "markdown",
   "metadata": {},
   "source": [
    "##### Comments\n",
    "None today"
   ]
  },
  {
   "cell_type": "code",
   "execution_count": 26,
   "metadata": {},
   "outputs": [],
   "source": [
    "import copy\n",
    "\n",
    "with open(\"input.txt\") as inFile:\n",
    "    oMatrix = [list(line.strip()) for line in inFile.readlines()]\n",
    "    matrix = copy.deepcopy(oMatrix)"
   ]
  },
  {
   "cell_type": "code",
   "execution_count": 27,
   "metadata": {},
   "outputs": [],
   "source": [
    "directions = {\n",
    "    \"UP\": (1, 0),\n",
    "    \"DOWN\": (-1, 0),\n",
    "    \"LEFT\": (0, 1),\n",
    "    \"RIGHT\": (0, -1),\n",
    "}\n",
    "\n",
    "nextDirections = {\n",
    "    \"UP\": \"RIGHT\",\n",
    "    \"RIGHT\": \"DOWN\",\n",
    "    \"DOWN\": \"LEFT\",\n",
    "    \"LEFT\": \"UP\"\n",
    "}\n",
    "\n",
    "for i, line in enumerate(matrix):\n",
    "    for j, col in enumerate(line):\n",
    "        if col == \"^\":\n",
    "            startingPos = (i, j)"
   ]
  },
  {
   "cell_type": "code",
   "execution_count": 28,
   "metadata": {},
   "outputs": [],
   "source": [
    "def getOutside(matrix, startingPos, onFailure):\n",
    "    currPos = startingPos\n",
    "    currDirKey = \"UP\"\n",
    "    visitedPos = set()\n",
    "    movesCount = {}\n",
    "\n",
    "    outside = False\n",
    "    while not outside:\n",
    "        currDir = directions[currDirKey]\n",
    "        nextPos = (currPos[0] - currDir[0], currPos[1] - currDir[1])\n",
    "\n",
    "        if nextPos[0] < 0 or nextPos[1] < 0 or nextPos[0] >= len(matrix) or nextPos[1] >= len(matrix[0]):\n",
    "            outside = True\n",
    "            continue\n",
    "\n",
    "        char = matrix[nextPos[0]][nextPos[1]]\n",
    "        if char != \"#\" and char != \"O\":\n",
    "            matrix[nextPos[0]][nextPos[1]] = \"^\"\n",
    "            matrix[currPos[0]][currPos[1]] = \".\"\n",
    "            \n",
    "            if nextPos not in visitedPos:\n",
    "                visitedPos.add(nextPos)\n",
    "\n",
    "            currPos = nextPos\n",
    "\n",
    "        move = (currDirKey, currPos)\n",
    "\n",
    "        if char == \"#\" or char == \"O\":\n",
    "            currDirKey = nextDirections[currDirKey]\n",
    "        \n",
    "        if move in movesCount:\n",
    "            movesCount[move] += 1\n",
    "        else:\n",
    "            movesCount[move] = 0\n",
    "        \n",
    "        if movesCount[move] > 2:\n",
    "            break\n",
    "    \n",
    "    return len(visitedPos) if outside else onFailure()"
   ]
  },
  {
   "cell_type": "markdown",
   "metadata": {},
   "source": [
    "Part 1"
   ]
  },
  {
   "cell_type": "code",
   "execution_count": 29,
   "metadata": {},
   "outputs": [
    {
     "name": "stdout",
     "output_type": "stream",
     "text": [
      "Unique Moves: 41\n"
     ]
    }
   ],
   "source": [
    "print(\"Unique Moves:\", getOutside(matrix, startingPos, lambda: None))"
   ]
  },
  {
   "cell_type": "markdown",
   "metadata": {},
   "source": [
    "Part 2"
   ]
  },
  {
   "cell_type": "code",
   "execution_count": 32,
   "metadata": {},
   "outputs": [
    {
     "name": "stdout",
     "output_type": "stream",
     "text": [
      "6\n"
     ]
    }
   ],
   "source": [
    "def addLoop():\n",
    "    global loopCount\n",
    "    loopCount += 1\n",
    "\n",
    "loopCount = 0\n",
    "for i, line in enumerate(matrix):\n",
    "    # print(\"Row:\", i)\n",
    "    for j, col in enumerate(line):\n",
    "        matrix = copy.deepcopy(oMatrix)\n",
    "\n",
    "        if matrix[i][j] == \".\":\n",
    "            matrix[i][j] = \"O\"  \n",
    "\n",
    "        getOutside(matrix, startingPos, addLoop)\n",
    "\n",
    "print(loopCount)"
   ]
  }
 ],
 "metadata": {
  "kernelspec": {
   "display_name": "Python 3",
   "language": "python",
   "name": "python3"
  },
  "language_info": {
   "codemirror_mode": {
    "name": "ipython",
    "version": 3
   },
   "file_extension": ".py",
   "mimetype": "text/x-python",
   "name": "python",
   "nbconvert_exporter": "python",
   "pygments_lexer": "ipython3",
   "version": "3.12.0"
  }
 },
 "nbformat": 4,
 "nbformat_minor": 2
}
