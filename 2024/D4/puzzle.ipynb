{
 "cells": [
  {
   "cell_type": "markdown",
   "metadata": {},
   "source": [
    "##### Comments\n",
    "None today"
   ]
  },
  {
   "cell_type": "code",
   "execution_count": 7,
   "metadata": {},
   "outputs": [
    {
     "name": "stdout",
     "output_type": "stream",
     "text": [
      "rows:  140 cols:  140\n"
     ]
    }
   ],
   "source": [
    "class Offset:     \n",
    "  def __init__(self, x=0, y=0) -> None:         \n",
    "    self.x = x         \n",
    "    self.y = y\n",
    "\n",
    "with open(\"input.txt\") as inFile:     \n",
    "  matrix = [line.replace(\"\\n\", \"\") for line in inFile.readlines()] \n",
    "\n",
    "print(\"rows: \", len(matrix), \"cols: \", len(matrix[0]))\n",
    "\n"
   ]
  },
  {
   "cell_type": "code",
   "execution_count": 8,
   "metadata": {},
   "outputs": [],
   "source": [
    "directions = [     \n",
    "    (Offset(0, 1), Offset(0, 2), Offset(0, 3)), # Bottom     \n",
    "    (Offset(0, -1), Offset(0, -2), Offset(0, -3)), # Top     \n",
    "    (Offset(-1, 0), Offset(-2, 0), Offset(-3, 0)), # Left     \n",
    "    (Offset(1, 0), Offset(2, 0), Offset(3, 0)), # Right     \n",
    "    \n",
    "    (Offset(-1, 1), Offset(-2, 2), Offset(-3, 3)), # Bottom Left     \n",
    "    (Offset(1, 1), Offset(2, 2), Offset(3, 3)), # Bottom Right     \n",
    "    (Offset(-1, -1), Offset(-2, -2), Offset(-3, -3)), # Top Let     \n",
    "    (Offset(1, -1), Offset(2, -2), Offset(3, -3)), # Top Right \n",
    "] \n",
    "\n",
    "wordCount = 0"
   ]
  },
  {
   "cell_type": "markdown",
   "metadata": {},
   "source": [
    "Part 1\n",
    "\n",
    "Starting from any character check all directions if it makes an XMAS. This automatically handles the opposite case for SAMX"
   ]
  },
  {
   "cell_type": "code",
   "execution_count": null,
   "metadata": {},
   "outputs": [
    {
     "data": {
      "text/plain": [
       "2618"
      ]
     },
     "execution_count": 9,
     "metadata": {},
     "output_type": "execute_result"
    }
   ],
   "source": [
    "for i, row in enumerate(matrix):\n",
    "    for j, char in enumerate(row):\n",
    "        for direction in directions:\n",
    "            directionWord = char\n",
    "            try:\n",
    "                for offset in direction:\n",
    "                    rowOffset = i + offset.x\n",
    "                    colOffset = j + offset.y\n",
    "                    if rowOffset < 0 or colOffset < 0:\n",
    "                        continue\n",
    "                    directionWord += matrix[rowOffset][colOffset]\n",
    "            except IndexError:\n",
    "                pass\n",
    "            if directionWord == \"XMAS\":\n",
    "                # print(\"Word found\", \"Origin: \", i, j, directionWord)\n",
    "                wordCount += 1\n",
    "\n",
    "wordCount"
   ]
  },
  {
   "cell_type": "markdown",
   "metadata": {},
   "source": [
    "Part 2"
   ]
  },
  {
   "cell_type": "code",
   "execution_count": 11,
   "metadata": {},
   "outputs": [
    {
     "data": {
      "text/plain": [
       "2011"
      ]
     },
     "execution_count": 11,
     "metadata": {},
     "output_type": "execute_result"
    }
   ],
   "source": [
    "xCount = 0 \n",
    "for i, row in enumerate(matrix):     \n",
    "    for j, char in enumerate(row):         \n",
    "        if char == \"A\":             \n",
    "            try:                 \n",
    "                if i == 0 or j == 0: # \"Perks\" of working in python (negative indicies messed up output)\n",
    "                    continue\n",
    "\n",
    "                masL = matrix[i-1][j-1] + char + matrix[i+1][j+1]                \n",
    "                masR = matrix[i-1][j+1] + char + matrix[i+1][j-1]                 \n",
    "                # print(masL, masR)                 \n",
    "                if masL in [\"MAS\", \"SAM\"] and masR in [\"MAS\", \"SAM\"]:                     \n",
    "                    xCount += 1             \n",
    "            except IndexError:                 \n",
    "                pass\n",
    "xCount"
   ]
  }
 ],
 "metadata": {
  "kernelspec": {
   "display_name": "Python 3",
   "language": "python",
   "name": "python3"
  },
  "language_info": {
   "codemirror_mode": {
    "name": "ipython",
    "version": 3
   },
   "file_extension": ".py",
   "mimetype": "text/x-python",
   "name": "python",
   "nbconvert_exporter": "python",
   "pygments_lexer": "ipython3",
   "version": "3.12.0"
  }
 },
 "nbformat": 4,
 "nbformat_minor": 2
}
