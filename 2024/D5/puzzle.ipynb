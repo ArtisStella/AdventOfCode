{
 "cells": [
  {
   "cell_type": "markdown",
   "metadata": {},
   "source": [
    "##### Comments\n",
    "None today"
   ]
  },
  {
   "cell_type": "code",
   "execution_count": null,
   "metadata": {},
   "outputs": [],
   "source": [
    "class PageOrder:\n",
    "    def __init__(self, value) -> None:\n",
    "        self.value = value\n",
    "        self.befores = []\n",
    "        self.afters = []\n",
    "\n",
    "    def addBefore(self, page):\n",
    "        self.befores.append(page)\n",
    "    \n",
    "    def addAfter(self, page):\n",
    "        self.afters.append(page)\n",
    "\n",
    "    def __str__(self):\n",
    "        return \"\\n\\nKey: \" + self.value + \"\\nBefore: \" + str(self.befores) + \"\\nAfter: \" + str(self.afters)\n"
   ]
  },
  {
   "cell_type": "code",
   "execution_count": 3,
   "metadata": {},
   "outputs": [],
   "source": [
    "with open(\"input.txt\") as inFile:\n",
    "    content = inFile.read()\n",
    "    orderList, updates = content.split(\"\\n\\n\")\n",
    "    orderList = orderList.split(\"\\n\")\n",
    "    updates = updates.split(\"\\n\")\n",
    "\n",
    "pageMap = {}\n",
    "\n",
    "for item in orderList:\n",
    "    before, after = item.strip().split(\"|\")\n",
    "\n",
    "    if not (before in pageMap.keys()):\n",
    "        pageMap[before] = PageOrder(before)\n",
    "    if not (after in pageMap.keys()):\n",
    "        pageMap[after] = PageOrder(after)\n",
    "\n",
    "    pageMap[before].addAfter(after)\n",
    "    pageMap[after].addBefore(before)\n"
   ]
  },
  {
   "cell_type": "code",
   "execution_count": 4,
   "metadata": {},
   "outputs": [],
   "source": [
    "def isValid(pages):\n",
    "    for i, page in enumerate(pages):\n",
    "        befores = pages[:i]\n",
    "        afters = pages[i+1:]\n",
    "\n",
    "        pageOrder = pageMap[page]\n",
    "\n",
    "        if not len(befores) == 1:\n",
    "            for item in befores:\n",
    "                if item in pageOrder.afters:\n",
    "                    return False\n",
    "                \n",
    "        if not len(afters) == 1:\n",
    "            for item in afters:\n",
    "                if item in pageOrder.befores:\n",
    "                    return False\n",
    "        \n",
    "    return True\n",
    "\n",
    "\n",
    "def reorder(pages):\n",
    "    corrected = False\n",
    "    while not corrected:\n",
    "\n",
    "        for i, page in enumerate(pages):\n",
    "            befores = pages[:i]\n",
    "            afters = pages[i+1:]\n",
    "            \n",
    "            pageOrder = pageMap[page]\n",
    "            if not len(befores) == 1:\n",
    "                for item in befores:\n",
    "                    if item in pageOrder.afters:\n",
    "                        # Swap with the bad one\n",
    "                        index = pages.index(item)\n",
    "                        pages[i], pages[index] = pages[index], pages[i]\n",
    "                    \n",
    "            if not len(afters) == 1:\n",
    "                for item in afters:\n",
    "                    if item in pageOrder.befores:\n",
    "                        # Swap with the bad one\n",
    "                        index = pages.index(item)\n",
    "                        pages[i], pages[index] = pages[index], pages[i]\n",
    "\n",
    "        if isValid(pages):\n",
    "            corrected = True\n",
    "\n",
    "    return pages"
   ]
  },
  {
   "cell_type": "markdown",
   "metadata": {},
   "source": [
    "Part 1"
   ]
  },
  {
   "cell_type": "code",
   "execution_count": 5,
   "metadata": {},
   "outputs": [
    {
     "data": {
      "text/plain": [
       "143"
      ]
     },
     "execution_count": 5,
     "metadata": {},
     "output_type": "execute_result"
    }
   ],
   "source": [
    "invalids = []\n",
    "for update in updates:\n",
    "    pages = update.split(\",\")\n",
    "\n",
    "    if not isValid(pages):\n",
    "        invalids.append(update)\n",
    "\n",
    "invalids = list(set(invalids))\n",
    "\n",
    "mids = []\n",
    "\n",
    "for update in updates:\n",
    "    pages = update.split(\",\")\n",
    "\n",
    "    if not update in invalids:\n",
    "        middle = len(pages) // 2\n",
    "        mids.append(int(pages[middle]))\n",
    "\n",
    "sum(mids)"
   ]
  },
  {
   "cell_type": "markdown",
   "metadata": {},
   "source": [
    "Part 2"
   ]
  },
  {
   "cell_type": "code",
   "execution_count": 6,
   "metadata": {},
   "outputs": [
    {
     "data": {
      "text/plain": [
       "123"
      ]
     },
     "execution_count": 6,
     "metadata": {},
     "output_type": "execute_result"
    }
   ],
   "source": [
    "invalids = []\n",
    "for update in updates:\n",
    "    pages = update.split(\",\")\n",
    "\n",
    "    if not isValid(pages):\n",
    "        invalids.append(update)\n",
    "\n",
    "invalids = list(set(invalids))\n",
    "\n",
    "mids = []\n",
    "\n",
    "for update in updates:\n",
    "    pages = update.split(\",\")\n",
    "\n",
    "    if update in invalids:\n",
    "        pages = reorder(pages)\n",
    "        middle = len(pages) // 2\n",
    "        mids.append(int(pages[middle]))\n",
    "\n",
    "sum(mids)\n"
   ]
  }
 ],
 "metadata": {
  "kernelspec": {
   "display_name": "Python 3",
   "language": "python",
   "name": "python3"
  },
  "language_info": {
   "codemirror_mode": {
    "name": "ipython",
    "version": 3
   },
   "file_extension": ".py",
   "mimetype": "text/x-python",
   "name": "python",
   "nbconvert_exporter": "python",
   "pygments_lexer": "ipython3",
   "version": "3.12.0"
  }
 },
 "nbformat": 4,
 "nbformat_minor": 2
}
