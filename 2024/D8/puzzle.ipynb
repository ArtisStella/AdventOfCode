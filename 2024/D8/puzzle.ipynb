{
 "cells": [
  {
   "cell_type": "markdown",
   "metadata": {},
   "source": [
    "##### Comments\n",
    "None today"
   ]
  },
  {
   "cell_type": "code",
   "execution_count": 306,
   "metadata": {},
   "outputs": [],
   "source": [
    "import copy\n",
    "import numpy as np\n",
    "\n",
    "with open(\"input.txt\") as inFile:\n",
    "    oMatrix = [list(line.strip()) for line in inFile.readlines()]\n",
    "    matrixSize = len(oMatrix)"
   ]
  },
  {
   "cell_type": "code",
   "execution_count": 307,
   "metadata": {},
   "outputs": [],
   "source": [
    "def findNextNode(rowIndex, antenna, matrix):\n",
    "    pairs = []\n",
    "    for i in range(rowIndex + 1, len(matrix)):\n",
    "        row = matrix[i]\n",
    "        for j, loc in enumerate(row):\n",
    "            if loc == antenna:\n",
    "                pairs.append((i, j))\n",
    "\n",
    "    return pairs"
   ]
  },
  {
   "cell_type": "code",
   "execution_count": 308,
   "metadata": {},
   "outputs": [],
   "source": [
    "def isInBounds(point):\n",
    "    return 0 <= point[0] < matrixSize and 0 <= point[1] < matrixSize"
   ]
  },
  {
   "cell_type": "markdown",
   "metadata": {},
   "source": [
    "Part 1"
   ]
  },
  {
   "cell_type": "code",
   "execution_count": 309,
   "metadata": {},
   "outputs": [
    {
     "name": "stdout",
     "output_type": "stream",
     "text": [
      "12\n",
      "\n",
      "Uniques 14\n"
     ]
    }
   ],
   "source": [
    "def placeAntinode(loc1, loc2, matrix):\n",
    "    global uniqueAntinodes\n",
    "    d1 = (-abs(loc1[0] - loc2[0]), loc1[1] - loc2[1])\n",
    "    d2 = ( abs(loc1[0] - loc2[0]), loc2[1] - loc1[1])\n",
    "    an1 = np.add(loc1, d1)\n",
    "    an2 = np.add(loc2, d2)\n",
    "    \n",
    "    if isInBounds(an1):\n",
    "        uniqueAntinodes.add(tuple(an1))\n",
    "        curValue1 = matrix[an1[0]][an1[1]]\n",
    "        if curValue1 == \".\":\n",
    "            matrix[an1[0]][an1[1]] = \"#\"\n",
    "    if isInBounds(an2):\n",
    "        uniqueAntinodes.add(tuple(an2))\n",
    "        curValue2 = matrix[an2[0]][an2[1]]\n",
    "        if curValue2 == \".\":\n",
    "            matrix[an2[0]][an2[1]] = \"#\"\n",
    "\n",
    "    return matrix\n",
    "\n",
    "\n",
    "print(matrixSize)\n",
    "uniqueAntinodes = set()\n",
    "matrix = copy.deepcopy(oMatrix)\n",
    "for i, row in enumerate(matrix):\n",
    "    for j, loc in enumerate(row):\n",
    "        if loc not in  \"#.\":\n",
    "            pairs = findNextNode(i, loc, matrix)\n",
    "\n",
    "            if pairs:\n",
    "                for pair in pairs:\n",
    "                    matrix = placeAntinode((i, j), pair, matrix)\n",
    "\n",
    "print(\"\\nUniques\", len(uniqueAntinodes))"
   ]
  },
  {
   "cell_type": "markdown",
   "metadata": {},
   "source": [
    "Part 2"
   ]
  },
  {
   "cell_type": "code",
   "execution_count": 313,
   "metadata": {},
   "outputs": [
    {
     "name": "stdout",
     "output_type": "stream",
     "text": [
      "12\n",
      "\n",
      "............\n",
      "........0...\n",
      ".....0......\n",
      ".......0....\n",
      "....0.......\n",
      "......A.....\n",
      "............\n",
      "............\n",
      "........A...\n",
      ".........A..\n",
      "............\n",
      "............\n",
      "\n",
      "Uniques 34\n"
     ]
    }
   ],
   "source": [
    "def placeAntinode(loc1, loc2, matrix):\n",
    "    global uniqueAntinodes\n",
    "    distance = (loc1[0] - loc2[0], loc1[1] - loc2[1])\n",
    "    \n",
    "    uniqueAntinodes.add(tuple(loc1))\n",
    "    uniqueAntinodes.add(tuple(loc2))\n",
    "\n",
    "    antinode = copy.deepcopy(loc1)\n",
    "    while isInBounds(antinode):\n",
    "        uniqueAntinodes.add(tuple(antinode))\n",
    "        antinode = (antinode[0] - distance[0], antinode[1] - distance[1])\n",
    "    \n",
    "    antinode = copy.deepcopy(loc2)\n",
    "    while isInBounds(antinode):\n",
    "        uniqueAntinodes.add(tuple(antinode))\n",
    "        antinode = (antinode[0] + distance[0], antinode[1] + distance[1])\n",
    "\n",
    "    return matrix\n",
    "\n",
    "\n",
    "print(matrixSize)\n",
    "uniqueAntinodes = set()\n",
    "matrix = copy.deepcopy(oMatrix)\n",
    "for i, row in enumerate(matrix):\n",
    "    for j, loc in enumerate(row):\n",
    "        if loc not in  \"#.\":\n",
    "            pairs = findNextNode(i, loc, matrix)\n",
    "\n",
    "            if pairs:\n",
    "                for pair in pairs:\n",
    "                    matrix = placeAntinode((i, j), pair, matrix)\n",
    "\n",
    "print()\n",
    "for line in matrix:\n",
    "    print(\"\".join(line))\n",
    "\n",
    "print(\"\\nUniques\", len(uniqueAntinodes))"
   ]
  }
 ],
 "metadata": {
  "kernelspec": {
   "display_name": "Python 3",
   "language": "python",
   "name": "python3"
  },
  "language_info": {
   "codemirror_mode": {
    "name": "ipython",
    "version": 3
   },
   "file_extension": ".py",
   "mimetype": "text/x-python",
   "name": "python",
   "nbconvert_exporter": "python",
   "pygments_lexer": "ipython3",
   "version": "3.12.0"
  }
 },
 "nbformat": 4,
 "nbformat_minor": 2
}
